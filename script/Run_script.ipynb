{
 "cells": [
  {
   "cell_type": "markdown",
   "source": [
    "# Synergy drug screen analysis notebook\n",
    "Welcome to this notebook to run the synergy drug screen.\n",
    "\n",
    "This notebook runs in python 3.8.2 with Pandas and NumPy. To see the exact dependencies, see the 'venv' folder.\n",
    "\n",
    "The input for this script is:\n",
    "- csv files from segmentation in Columbus (with a file name consisting of: \"\\*result.[well_name]\\*.csv\" where the * denotes other parts of strings, and well_name is without a tracing 0 for numbers under 10. So A1-A24 etc.\n",
    "- a Drugconcentrations_perwell.xlsx file that contains the long form drug print tab from the Tecan d500 drug printer result file.\n",
    "- A conditions table that delineates the names of conditions used.\n",
    "\n",
    "Currently, this notebook only works with the following drugs: Lapatinib, Binimetinib, Vinorelbine and Navitoclax. As a negative control it takes DMSO.\n",
    "Further options will be built at some point...\n",
    "\n",
    "\n",
    "### Create a new data folder\n",
    "To create a new data folder:\n",
    "1. change the variable 'experiment' below to a name of your choosing.\n",
    "2. run the code block to start setting up your folder"
   ],
   "metadata": {
    "collapsed": false
   }
  },
  {
   "cell_type": "code",
   "execution_count": 4,
   "outputs": [
    {
     "ename": "ImportError",
     "evalue": "cannot import name 'use_synergy_cond' from 'Experiment_setup' (/Users/mhuismans/PycharmProjects/E21-002_synergy_drugscreen_clean/script/Experiment_setup.py)",
     "output_type": "error",
     "traceback": [
      "\u001B[0;31m---------------------------------------------------------------------------\u001B[0m",
      "\u001B[0;31mImportError\u001B[0m                               Traceback (most recent call last)",
      "\u001B[0;32m<ipython-input-4-5263153f6084>\u001B[0m in \u001B[0;36m<module>\u001B[0;34m\u001B[0m\n\u001B[0;32m----> 1\u001B[0;31m \u001B[0;32mfrom\u001B[0m \u001B[0mExperiment_setup\u001B[0m \u001B[0;32mimport\u001B[0m \u001B[0mfolder_set_up\u001B[0m\u001B[0;34m,\u001B[0m \u001B[0mcheck_if_set\u001B[0m\u001B[0;34m,\u001B[0m \u001B[0muse_synergy_cond\u001B[0m\u001B[0;34m\u001B[0m\u001B[0;34m\u001B[0m\u001B[0m\n\u001B[0m\u001B[1;32m      2\u001B[0m \u001B[0;34m\u001B[0m\u001B[0m\n\u001B[1;32m      3\u001B[0m \u001B[0mexperiment\u001B[0m \u001B[0;34m=\u001B[0m \u001B[0;34m\"experiment_name\"\u001B[0m\u001B[0;34m\u001B[0m\u001B[0;34m\u001B[0m\u001B[0m\n\u001B[1;32m      4\u001B[0m \u001B[0mfolder_set_up\u001B[0m\u001B[0;34m(\u001B[0m\u001B[0mexperiment\u001B[0m\u001B[0;34m)\u001B[0m\u001B[0;34m\u001B[0m\u001B[0;34m\u001B[0m\u001B[0m\n\u001B[1;32m      5\u001B[0m \u001B[0;34m\u001B[0m\u001B[0m\n",
      "\u001B[0;31mImportError\u001B[0m: cannot import name 'use_synergy_cond' from 'Experiment_setup' (/Users/mhuismans/PycharmProjects/E21-002_synergy_drugscreen_clean/script/Experiment_setup.py)"
     ]
    }
   ],
   "source": [
    "from Experiment_setup import folder_set_up, check_if_set\n",
    "\n",
    "experiment = \"experiment_name\"\n",
    "folder_set_up(experiment)"
   ],
   "metadata": {
    "collapsed": false,
    "pycharm": {
     "name": "#%%\n"
    }
   }
  },
  {
   "cell_type": "markdown",
   "source": [
    "### Fill data folder\n",
    "To set up your new experiment, copy your well csv files into the /input/well_csv folder.\n",
    "\n",
    "Next,  "
   ],
   "metadata": {
    "collapsed": false
   }
  }
 ],
 "metadata": {
  "kernelspec": {
   "display_name": "Python 3",
   "language": "python",
   "name": "python3"
  },
  "language_info": {
   "codemirror_mode": {
    "name": "ipython",
    "version": 2
   },
   "file_extension": ".py",
   "mimetype": "text/x-python",
   "name": "python",
   "nbconvert_exporter": "python",
   "pygments_lexer": "ipython2",
   "version": "2.7.6"
  }
 },
 "nbformat": 4,
 "nbformat_minor": 0
}