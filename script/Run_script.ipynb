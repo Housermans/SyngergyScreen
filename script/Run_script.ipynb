{
 "cells": [
  {
   "cell_type": "markdown",
   "source": [
    "# Synergy drug screen analysis notebook\n",
    "Welcome to this notebook to run the synergy drug screen.\n",
    "\n",
    "This notebook runs in python 3.8.2 with Pandas and NumPy. To see the exact dependencies, see the 'venv' folder.\n",
    "\n",
    "The input for this script is:\n",
    "- csv files from segmentation in Columbus (with a file name consisting of: \"\\*result.[well_name]\\*.csv\" where the * denotes other parts of strings, and well_name is without a tracing 0 for numbers under 10. So A1-A24 etc.\n",
    "- a Drugconcentrations_perwell.xlsx file that contains the 'Tabular Detail' tab from the Tecan D300e drug printer result file (original file is in xml format, so save in a .xlsx format from there.\n",
    "- A conditions table that delineates the names of conditions used.\n",
    "\n",
    "Currently, this notebook only works with the following drugs: Lapatinib, Binimetinib, Vinorelbine and Navitoclax. As a negative control it takes DMSO.\n",
    "Further options will be built at some point...\n",
    "\n",
    "## Preparation\n",
    "### Create a new data folder\n",
    "To create a new data folder:\n",
    "1. change the variable 'experiment' below to a name of your choosing.\n",
    "2. run the code block to start setting up your folder"
   ],
   "metadata": {
    "collapsed": false
   }
  },
  {
   "cell_type": "code",
   "execution_count": 2,
   "outputs": [
    {
     "name": "stdout",
     "output_type": "stream",
     "text": [
      "../data/E21-002_RAS16/ exists, moving on\n",
      "../data/E21-002_RAS16/figures exists, moving on\n",
      "../data/E21-002_RAS16/input exists, moving on\n",
      "../data/E21-002_RAS16/input/well_csv exists, moving on\n",
      "../data/E21-002_RAS16/output exists, moving on\n",
      "../data/E21-002_RAS16/output/well_csv exists, moving on\n",
      "../data/E21-002_RAS16/output/well_csv_cutoff exists, moving on\n",
      "../data/E21-002_RAS16/output/conditions exists, moving on\n"
     ]
    }
   ],
   "source": [
    "from Experiment_setup import folder_set_up, check_if_set, use_synergy_table\n",
    "\n",
    "experiment = \"E21-002_RAS16\"\n",
    "folder_set_up(experiment)"
   ],
   "metadata": {
    "collapsed": false,
    "pycharm": {
     "name": "#%%\n"
    }
   }
  },
  {
   "cell_type": "markdown",
   "source": [
    "### Fill data folder\n",
    "To set up your new experiment:\n",
    "1. copy your well .csv files into the /input/well_csv folder.\n",
    "2. open the 'tabular detail' tab from your drugprint report file. Save the tab as a seperate excel file in the input folder with the following (exact) name: \"Drugconcentrations_perwell.xlsx\".\n",
    "3. copy a 'Conditions_table.xlsx' file into your input folder that summarizes the conditions you want to be able to plot. For an example see the file in the 'resources' folder. If this is exactly the conditions that you used in your screening, you can copy the file using the following code block."
   ],
   "metadata": {
    "collapsed": false
   }
  },
  {
   "cell_type": "code",
   "execution_count": 3,
   "outputs": [
    {
     "name": "stdout",
     "output_type": "stream",
     "text": [
      "Added Conditions_table.xlsx to E21-002_RAS16/input\n"
     ]
    }
   ],
   "source": [
    "# use only if your experiment matches the conditions delineated in the 'resources/Conditions_table_synergy.xlsx' file.\n",
    "use_synergy_table(experiment)"
   ],
   "metadata": {
    "collapsed": false,
    "pycharm": {
     "name": "#%%\n"
    }
   }
  },
  {
   "cell_type": "markdown",
   "source": [
    "### Check if everything is set\n",
    "Finally, to check if you're all set to proceed to the next stage, run the code block below. The output of this script will tell you which files are missing."
   ],
   "metadata": {
    "collapsed": false
   }
  },
  {
   "cell_type": "code",
   "execution_count": 4,
   "outputs": [
    {
     "name": "stdout",
     "output_type": "stream",
     "text": [
      "Found 384 files for input/well_csv/*.csv\n",
      "Found 1 files for input/Conditions_table.xlsx\n",
      "Found 1 files for input/Drugconcentrations_perwell.xlsx\n",
      "All necessary files are complete, continue to next code block!\n"
     ]
    }
   ],
   "source": [
    "check_if_set(experiment)"
   ],
   "metadata": {
    "collapsed": false,
    "pycharm": {
     "name": "#%%\n"
    }
   }
  },
  {
   "cell_type": "markdown",
   "source": [
    "## Processing\n",
    "### Creating well and drug libraries.\n",
    "The following code blocks will create a file that summarizes your findings and the drugs added to a certain condition."
   ],
   "metadata": {
    "collapsed": false,
    "pycharm": {
     "name": "#%% md\n"
    }
   }
  },
  {
   "cell_type": "code",
   "execution_count": 5,
   "outputs": [
    {
     "name": "stdout",
     "output_type": "stream",
     "text": [
      "Loaded all drug concentrations per well.\n",
      "Synthesized all data into experiment_table.csv\n",
      "Continue to next code block\n"
     ]
    }
   ],
   "source": [
    "from Load_data import fill_library\n",
    "\n",
    "fill_library(experiment)"
   ],
   "metadata": {
    "collapsed": false,
    "pycharm": {
     "name": "#%%\n"
    }
   }
  },
  {
   "cell_type": "markdown",
   "source": [
    "Check the 'experiment_table.csv' file in the output folder to make sure that all your conditions have been classified accordingly. Pick out a few wells to make sure everything is in order.\n",
    "\n",
    "Vital for the next step is that the 'positive_control' and the 'negative_control' are classified correctly. These will be used to normalize the drug screen results in the other conditions.\n",
    "\n",
    "### Apply classification\n",
    "The next step is to apply the classification of dead and alive on every well, so that they are normalized to known 100% alive and 100% death conditions, derived from the roundness values in your positive and negative control conditions.\n"
   ],
   "metadata": {
    "collapsed": false,
    "pycharm": {
     "name": "#%% md\n"
    }
   }
  },
  {
   "cell_type": "code",
   "execution_count": 6,
   "outputs": [
    {
     "name": "stdout",
     "output_type": "stream",
     "text": [
      "Loading conditions...\n",
      "WARNING: working on E21-002_RAS16, if you are working in a new file, please update the experiment variable!\n",
      "Acquiring cutoff value...\n",
      "Found optimal cutoff value: 0.6941046425939572\n"
     ]
    },
    {
     "name": "stderr",
     "output_type": "stream",
     "text": [
      "/Users/mhuismans/PycharmProjects/E21-002_synergy_drugscreen_clean/script/Apply_classification.py:96: UserWarning: Tight layout not applied. tight_layout cannot make axes height small enough to accommodate all axes decorations\n",
      "  plt.tight_layout()\n",
      "/Users/mhuismans/PycharmProjects/E21-002_synergy_drugscreen_clean/script/Apply_classification.py:96: UserWarning: Tight layout not applied. tight_layout cannot make axes height small enough to accommodate all axes decorations\n",
      "  plt.tight_layout()\n"
     ]
    },
    {
     "name": "stdout",
     "output_type": "stream",
     "text": [
      "processed conditions, now saving all findings to condition_data.csv\n",
      "Using cutoff value to normalize other conditions...\n",
      "0% of organoids alive for normalized minimum: 0.058695652173913045/n 100% alive for normalized maximum: 0.6658806190125276\n",
      "Normalized values per well were saved to ../data/E21-002_RAS16/output/experiment_table_cut.csv\n"
     ]
    },
    {
     "data": {
      "text/plain": "<Figure size 720x576 with 0 Axes>"
     },
     "metadata": {},
     "output_type": "display_data"
    },
    {
     "data": {
      "text/plain": "<Figure size 720x288 with 0 Axes>"
     },
     "metadata": {},
     "output_type": "display_data"
    },
    {
     "data": {
      "text/plain": "<Figure size 720x4608 with 0 Axes>"
     },
     "metadata": {},
     "output_type": "display_data"
    },
    {
     "data": {
      "text/plain": "<Figure size 720x576 with 0 Axes>"
     },
     "metadata": {},
     "output_type": "display_data"
    },
    {
     "data": {
      "text/plain": "<Figure size 720x576 with 0 Axes>"
     },
     "metadata": {},
     "output_type": "display_data"
    },
    {
     "data": {
      "text/plain": "<Figure size 720x576 with 0 Axes>"
     },
     "metadata": {},
     "output_type": "display_data"
    },
    {
     "data": {
      "text/plain": "<Figure size 720x576 with 0 Axes>"
     },
     "metadata": {},
     "output_type": "display_data"
    },
    {
     "data": {
      "text/plain": "<Figure size 720x4608 with 0 Axes>"
     },
     "metadata": {},
     "output_type": "display_data"
    },
    {
     "data": {
      "text/plain": "<Figure size 720x576 with 0 Axes>"
     },
     "metadata": {},
     "output_type": "display_data"
    },
    {
     "data": {
      "text/plain": "<Figure size 720x576 with 0 Axes>"
     },
     "metadata": {},
     "output_type": "display_data"
    },
    {
     "data": {
      "text/plain": "<Figure size 720x288 with 0 Axes>"
     },
     "metadata": {},
     "output_type": "display_data"
    },
    {
     "data": {
      "text/plain": "<Figure size 720x576 with 0 Axes>"
     },
     "metadata": {},
     "output_type": "display_data"
    },
    {
     "data": {
      "text/plain": "<Figure size 720x288 with 0 Axes>"
     },
     "metadata": {},
     "output_type": "display_data"
    }
   ],
   "source": [
    "from Apply_classification import find_apply_cutoff\n",
    "\n",
    "find_apply_cutoff(experiment, plot=True, save=True)\n",
    "# find_apply_cutoff(plot=True, save=True, cutoff=0.75)"
   ],
   "metadata": {
    "collapsed": false,
    "pycharm": {
     "name": "#%%\n"
    }
   }
  }
 ],
 "metadata": {
  "kernelspec": {
   "display_name": "Python 3",
   "language": "python",
   "name": "python3"
  },
  "language_info": {
   "codemirror_mode": {
    "name": "ipython",
    "version": 2
   },
   "file_extension": ".py",
   "mimetype": "text/x-python",
   "name": "python",
   "nbconvert_exporter": "python",
   "pygments_lexer": "ipython2",
   "version": "2.7.6"
  }
 },
 "nbformat": 4,
 "nbformat_minor": 0
}