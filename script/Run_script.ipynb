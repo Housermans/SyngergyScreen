{
 "cells": [
  {
   "cell_type": "markdown",
   "source": [
    "# Synergy drug screen analysis notebook\n",
    "Welcome to this notebook to run the synergy drug screen.\n",
    "\n",
    "This notebook runs in python 3.8.2 with Pandas and NumPy. To see the exact dependencies, see the 'venv' folder.\n",
    "\n",
    "The input for this script is:\n",
    "- csv files from segmentation in Columbus (with a file name consisting of: \"\\*result.[well_name]\\*.csv\" where the * denotes other parts of strings, and well_name is without a tracing 0 for numbers under 10. So A1-A24 etc.\n",
    "- a Drugconcentrations_perwell.xlsx file that contains the 'Tabular Detail' tab from the Tecan D300e drug printer result file (original file is in xml format, so save in a .xlsx format from there.\n",
    "- A conditions table that delineates the names of conditions used.\n",
    "\n",
    "Currently, this notebook only works with the following drugs: Lapatinib, Binimetinib, Vinorelbine and Navitoclax. As a negative control it takes DMSO.\n",
    "Further options will be built at some point...\n",
    "\n",
    "## Preparation\n",
    "### Create a new data folder\n",
    "To create a new data folder:\n",
    "1. change the variable 'experiment' below to a name of your choosing.\n",
    "2. run the code block to start setting up your folder"
   ],
   "metadata": {
    "collapsed": false
   }
  },
  {
   "cell_type": "code",
   "execution_count": 1,
   "outputs": [
    {
     "name": "stdout",
     "output_type": "stream",
     "text": [
      "../data/E21-002_RAS16/ exists, moving on\n",
      "../data/E21-002_RAS16/figures exists, moving on\n",
      "../data/E21-002_RAS16/input exists, moving on\n",
      "../data/E21-002_RAS16/input/well_csv exists, moving on\n",
      "../data/E21-002_RAS16/output exists, moving on\n",
      "../data/E21-002_RAS16/output/well_csv exists, moving on\n",
      "../data/E21-002_RAS16/output/well_csv_cutoff exists, moving on\n",
      "../data/E21-002_RAS16/output/conditions exists, moving on\n"
     ]
    }
   ],
   "source": [
    "from Experiment_setup import folder_set_up, check_if_set, use_synergy_table\n",
    "\n",
    "experiment = \"E21-002_RAS16\"\n",
    "folder_set_up(experiment)"
   ],
   "metadata": {
    "collapsed": false,
    "pycharm": {
     "name": "#%%\n"
    }
   }
  },
  {
   "cell_type": "markdown",
   "source": [
    "### Fill data folder\n",
    "To set up your new experiment:\n",
    "1. copy your well .csv files into the /input/well_csv folder.\n",
    "2. open the 'tabular detail' tab from your drugprint report file. Save the tab as a seperate excel file in the input folder with the following (exact) name: \"Drugconcentrations_perwell.xlsx\".\n",
    "3. copy a 'Conditions_table.xlsx' file into your input folder that summarizes the conditions you want to be able to plot. For an example see the file in the 'resources' folder. If this is exactly the conditions that you used in your screening, you can copy the file using the following code block."
   ],
   "metadata": {
    "collapsed": false
   }
  },
  {
   "cell_type": "code",
   "execution_count": 2,
   "outputs": [
    {
     "name": "stdout",
     "output_type": "stream",
     "text": [
      "Added Conditions_table.xlsx to E21-002_RAS16/input\n"
     ]
    }
   ],
   "source": [
    "# use only if your experiment matches the conditions delineated in the 'resources/Conditions_table_synergy.xlsx' file.\n",
    "use_synergy_table(experiment)"
   ],
   "metadata": {
    "collapsed": false,
    "pycharm": {
     "name": "#%%\n"
    }
   }
  },
  {
   "cell_type": "markdown",
   "source": [
    "### Check if everything is set\n",
    "Finally, to check if you're all set to proceed to the next stage, run the code block below. The output of this script will tell you which files are missing."
   ],
   "metadata": {
    "collapsed": false
   }
  },
  {
   "cell_type": "code",
   "execution_count": 3,
   "outputs": [
    {
     "name": "stdout",
     "output_type": "stream",
     "text": [
      "Found 384 files for input/well_csv/*.csv\n",
      "Found 1 files for input/Conditions_table.xlsx\n",
      "Found 1 files for input/Drugconcentrations_perwell.xlsx\n",
      "All necessary files are complete, continue to next code block!\n"
     ]
    }
   ],
   "source": [
    "check_if_set(experiment)"
   ],
   "metadata": {
    "collapsed": false,
    "pycharm": {
     "name": "#%%\n"
    }
   }
  },
  {
   "cell_type": "markdown",
   "source": [
    "## Processing\n",
    "### Creating well and drug libraries.\n",
    "The following code blocks will create a file that summarizes your findings and the drugs added to a certain condition."
   ],
   "metadata": {
    "collapsed": false,
    "pycharm": {
     "name": "#%% md\n"
    }
   }
  },
  {
   "cell_type": "code",
   "execution_count": 4,
   "outputs": [
    {
     "name": "stdout",
     "output_type": "stream",
     "text": [
      "Loaded all drug concentrations per well.\n",
      "Synthesized all data into experiment_table.csv\n",
      "Continue to next code block\n"
     ]
    }
   ],
   "source": [
    "from Load_data import fill_library\n",
    "\n",
    "fill_library(experiment)"
   ],
   "metadata": {
    "collapsed": false,
    "pycharm": {
     "name": "#%%\n"
    }
   }
  },
  {
   "cell_type": "markdown",
   "source": [
    "Check the 'experiment_table.csv' file in the output folder to make sure that all your conditions have been classified accordingly. Pick out a few wells to make sure everything is in order.\n",
    "\n",
    "Vital for the next step is that the 'positive_control' and the 'negative_control' are classified correctly. These will be used to normalize the drug screen results in the other conditions.\n",
    "\n",
    "### Apply classification\n",
    "The next step is to apply the classification of dead and alive on every well, so that they are normalized to known 100% alive and 100% death conditions, derived from the roundness values in your positive and negative control conditions.\n"
   ],
   "metadata": {
    "collapsed": false,
    "pycharm": {
     "name": "#%% md\n"
    }
   }
  },
  {
   "cell_type": "code",
   "execution_count": 5,
   "outputs": [
    {
     "name": "stdout",
     "output_type": "stream",
     "text": [
      "Loading conditions...\n",
      "WARNING: working on E21-002_RAS16, if you are working in a new file, please update the experiment variable!\n",
      "Acquiring cutoff value...\n",
      "Found optimal cutoff value: 0.6941046425939572\n"
     ]
    },
    {
     "name": "stderr",
     "output_type": "stream",
     "text": [
      "/Users/mhuismans/PycharmProjects/E21-002_synergy_drugscreen_clean/script/Apply_classification.py:96: UserWarning: Tight layout not applied. tight_layout cannot make axes height small enough to accommodate all axes decorations\n",
      "  plt.tight_layout()\n",
      "/Users/mhuismans/PycharmProjects/E21-002_synergy_drugscreen_clean/script/Apply_classification.py:96: UserWarning: Tight layout not applied. tight_layout cannot make axes height small enough to accommodate all axes decorations\n",
      "  plt.tight_layout()\n"
     ]
    },
    {
     "name": "stdout",
     "output_type": "stream",
     "text": [
      "processed conditions, now saving all findings to condition_data.csv\n",
      "Using cutoff value to normalize other conditions...\n",
      "0% of organoids alive for normalized minimum: 0.058695652173913045/n 100% alive for normalized maximum: 0.6658806190125276\n",
      "Normalized values per well were saved to ../data/E21-002_RAS16/output/experiment_table_cut.csv\n",
      "All done! Continue to next block!\n"
     ]
    },
    {
     "data": {
      "text/plain": "<Figure size 720x576 with 0 Axes>"
     },
     "metadata": {},
     "output_type": "display_data"
    },
    {
     "data": {
      "text/plain": "<Figure size 720x288 with 0 Axes>"
     },
     "metadata": {},
     "output_type": "display_data"
    },
    {
     "data": {
      "text/plain": "<Figure size 720x4608 with 0 Axes>"
     },
     "metadata": {},
     "output_type": "display_data"
    },
    {
     "data": {
      "text/plain": "<Figure size 720x576 with 0 Axes>"
     },
     "metadata": {},
     "output_type": "display_data"
    },
    {
     "data": {
      "text/plain": "<Figure size 720x576 with 0 Axes>"
     },
     "metadata": {},
     "output_type": "display_data"
    },
    {
     "data": {
      "text/plain": "<Figure size 720x576 with 0 Axes>"
     },
     "metadata": {},
     "output_type": "display_data"
    },
    {
     "data": {
      "text/plain": "<Figure size 720x576 with 0 Axes>"
     },
     "metadata": {},
     "output_type": "display_data"
    },
    {
     "data": {
      "text/plain": "<Figure size 720x4608 with 0 Axes>"
     },
     "metadata": {},
     "output_type": "display_data"
    },
    {
     "data": {
      "text/plain": "<Figure size 720x576 with 0 Axes>"
     },
     "metadata": {},
     "output_type": "display_data"
    },
    {
     "data": {
      "text/plain": "<Figure size 720x576 with 0 Axes>"
     },
     "metadata": {},
     "output_type": "display_data"
    },
    {
     "data": {
      "text/plain": "<Figure size 720x288 with 0 Axes>"
     },
     "metadata": {},
     "output_type": "display_data"
    },
    {
     "data": {
      "text/plain": "<Figure size 720x576 with 0 Axes>"
     },
     "metadata": {},
     "output_type": "display_data"
    },
    {
     "data": {
      "text/plain": "<Figure size 720x288 with 0 Axes>"
     },
     "metadata": {},
     "output_type": "display_data"
    }
   ],
   "source": [
    "from Apply_classification import find_apply_cutoff\n",
    "\n",
    "find_apply_cutoff(experiment, plot=True, save=True)\n",
    "# find_apply_cutoff(plot=True, save=True, cutoff=0.75)"
   ],
   "metadata": {
    "collapsed": false,
    "pycharm": {
     "name": "#%%\n"
    }
   }
  },
  {
   "cell_type": "markdown",
   "source": [
    "## Plotting\n",
    "### Make heatmaps\n",
    "For the heatmaps, fill in the appropriate 'condition ID' (check output/condition_data.csv) for each condition:\n",
    "- first, the main matrix\n",
    "- second,the drug you want to plot on the left\n",
    "- third, the drug you want to plot on the bottom"
   ],
   "metadata": {
    "collapsed": false,
    "pycharm": {
     "name": "#%% md\n"
    }
   }
  },
  {
   "cell_type": "code",
   "execution_count": 7,
   "outputs": [
    {
     "name": "stdout",
     "output_type": "stream",
     "text": [
      "WARNING: working on E21-002_RAS16, if you are working in a new file, please update the experiment variable!\n"
     ]
    },
    {
     "data": {
      "text/plain": "    Lapa_round  Bini_round      mean       sem  count well1  well1_ratio  \\\n0        0.000       0.005  0.021221  0.021221      2   P19     0.000000   \n1        0.000       0.017  0.020288  0.020288      2   O19     0.040576   \n2        0.000       0.055  0.000000  0.000000      2   N19     0.000000   \n3        0.000       0.176  0.000000  0.000000      2   M19     0.000000   \n4        0.000       0.595  0.019831  0.019831      2   L19     0.039663   \n..         ...         ...       ...       ...    ...   ...          ...   \n75      19.988       0.176  0.000000  0.000000      2   I04     0.000000   \n76      19.988       0.595  0.028593  0.028593      2   I05     0.057185   \n77      19.988       1.885  0.084985  0.084985      2   I06     0.000000   \n78      19.988       6.101  0.020288  0.020288      2   I07     0.000000   \n79      19.988      19.988  0.017695  0.002981      2   I08     0.014714   \n\n   well2  well2_ratio  \n0    P20     0.042441  \n1    O20     0.000000  \n2    N20     0.000000  \n3    M20     0.000000  \n4    L20     0.000000  \n..   ...          ...  \n75   I12     0.000000  \n76   I13     0.000000  \n77   I14     0.169969  \n78   I15     0.040576  \n79   I16     0.020677  \n\n[80 rows x 9 columns]",
      "text/html": "<div>\n<style scoped>\n    .dataframe tbody tr th:only-of-type {\n        vertical-align: middle;\n    }\n\n    .dataframe tbody tr th {\n        vertical-align: top;\n    }\n\n    .dataframe thead th {\n        text-align: right;\n    }\n</style>\n<table border=\"1\" class=\"dataframe\">\n  <thead>\n    <tr style=\"text-align: right;\">\n      <th></th>\n      <th>Lapa_round</th>\n      <th>Bini_round</th>\n      <th>mean</th>\n      <th>sem</th>\n      <th>count</th>\n      <th>well1</th>\n      <th>well1_ratio</th>\n      <th>well2</th>\n      <th>well2_ratio</th>\n    </tr>\n  </thead>\n  <tbody>\n    <tr>\n      <th>0</th>\n      <td>0.000</td>\n      <td>0.005</td>\n      <td>0.021221</td>\n      <td>0.021221</td>\n      <td>2</td>\n      <td>P19</td>\n      <td>0.000000</td>\n      <td>P20</td>\n      <td>0.042441</td>\n    </tr>\n    <tr>\n      <th>1</th>\n      <td>0.000</td>\n      <td>0.017</td>\n      <td>0.020288</td>\n      <td>0.020288</td>\n      <td>2</td>\n      <td>O19</td>\n      <td>0.040576</td>\n      <td>O20</td>\n      <td>0.000000</td>\n    </tr>\n    <tr>\n      <th>2</th>\n      <td>0.000</td>\n      <td>0.055</td>\n      <td>0.000000</td>\n      <td>0.000000</td>\n      <td>2</td>\n      <td>N19</td>\n      <td>0.000000</td>\n      <td>N20</td>\n      <td>0.000000</td>\n    </tr>\n    <tr>\n      <th>3</th>\n      <td>0.000</td>\n      <td>0.176</td>\n      <td>0.000000</td>\n      <td>0.000000</td>\n      <td>2</td>\n      <td>M19</td>\n      <td>0.000000</td>\n      <td>M20</td>\n      <td>0.000000</td>\n    </tr>\n    <tr>\n      <th>4</th>\n      <td>0.000</td>\n      <td>0.595</td>\n      <td>0.019831</td>\n      <td>0.019831</td>\n      <td>2</td>\n      <td>L19</td>\n      <td>0.039663</td>\n      <td>L20</td>\n      <td>0.000000</td>\n    </tr>\n    <tr>\n      <th>...</th>\n      <td>...</td>\n      <td>...</td>\n      <td>...</td>\n      <td>...</td>\n      <td>...</td>\n      <td>...</td>\n      <td>...</td>\n      <td>...</td>\n      <td>...</td>\n    </tr>\n    <tr>\n      <th>75</th>\n      <td>19.988</td>\n      <td>0.176</td>\n      <td>0.000000</td>\n      <td>0.000000</td>\n      <td>2</td>\n      <td>I04</td>\n      <td>0.000000</td>\n      <td>I12</td>\n      <td>0.000000</td>\n    </tr>\n    <tr>\n      <th>76</th>\n      <td>19.988</td>\n      <td>0.595</td>\n      <td>0.028593</td>\n      <td>0.028593</td>\n      <td>2</td>\n      <td>I05</td>\n      <td>0.057185</td>\n      <td>I13</td>\n      <td>0.000000</td>\n    </tr>\n    <tr>\n      <th>77</th>\n      <td>19.988</td>\n      <td>1.885</td>\n      <td>0.084985</td>\n      <td>0.084985</td>\n      <td>2</td>\n      <td>I06</td>\n      <td>0.000000</td>\n      <td>I14</td>\n      <td>0.169969</td>\n    </tr>\n    <tr>\n      <th>78</th>\n      <td>19.988</td>\n      <td>6.101</td>\n      <td>0.020288</td>\n      <td>0.020288</td>\n      <td>2</td>\n      <td>I07</td>\n      <td>0.000000</td>\n      <td>I15</td>\n      <td>0.040576</td>\n    </tr>\n    <tr>\n      <th>79</th>\n      <td>19.988</td>\n      <td>19.988</td>\n      <td>0.017695</td>\n      <td>0.002981</td>\n      <td>2</td>\n      <td>I08</td>\n      <td>0.014714</td>\n      <td>I16</td>\n      <td>0.020677</td>\n    </tr>\n  </tbody>\n</table>\n<p>80 rows × 9 columns</p>\n</div>"
     },
     "execution_count": 7,
     "metadata": {},
     "output_type": "execute_result"
    }
   ],
   "source": [
    "from Plot_graphs import load_experiment, synergy_table, drug_response\n",
    "\n",
    "load_experiment(experiment)\n",
    "\n",
    "# lapatinib x binimetinib without vinorelbine\n",
    "synergy_table(8, 4, 6, plot=True, save=True)\n",
    "\n",
    "# lapatinib x binimetinib with vinorelbine\n",
    "synergy_table(9,5,7, plot=True, save=True)"
   ],
   "metadata": {
    "collapsed": false,
    "pycharm": {
     "name": "#%%\n"
    }
   }
  },
  {
   "cell_type": "markdown",
   "source": [
    "### Make dose response curves\n",
    "Next, individual dose response curves and tables can be made using the following functions."
   ],
   "metadata": {
    "collapsed": false,
    "pycharm": {
     "name": "#%% md\n"
    }
   }
  },
  {
   "cell_type": "code",
   "execution_count": 8,
   "outputs": [],
   "source": [
    "# navitoclax\n",
    "drug_response(3)\n",
    "\n",
    "# lapatinib\n",
    "drug_response(4)\n",
    "\n",
    "# lapatinib with vinorelbine\n",
    "drug_response(5)\n",
    "\n",
    "# binimetinib\n",
    "drug_response(6)\n",
    "\n",
    "# binimetinib with vinorelbine\n",
    "drug_response(7)\n",
    "\n",
    "# vinorelbine titration\n",
    "vino = drug_response(11)"
   ],
   "metadata": {
    "collapsed": false,
    "pycharm": {
     "name": "#%%\n"
    }
   }
  }
 ],
 "metadata": {
  "kernelspec": {
   "display_name": "Python 3",
   "language": "python",
   "name": "python3"
  },
  "language_info": {
   "codemirror_mode": {
    "name": "ipython",
    "version": 2
   },
   "file_extension": ".py",
   "mimetype": "text/x-python",
   "name": "python",
   "nbconvert_exporter": "python",
   "pygments_lexer": "ipython2",
   "version": "2.7.6"
  }
 },
 "nbformat": 4,
 "nbformat_minor": 0
}